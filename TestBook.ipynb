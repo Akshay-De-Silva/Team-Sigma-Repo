{
 "cells": [
  {
   "cell_type": "code",
   "execution_count": 26,
   "id": "ed19beca",
   "metadata": {},
   "outputs": [
    {
     "data": {
      "text/plain": [
       "array([[1, 8, 2],\n",
       "       [0, 0, 0],\n",
       "       [1, 6, 5],\n",
       "       [0, 0, 0],\n",
       "       [1, 7, 4],\n",
       "       [1, 8, 3],\n",
       "       [0, 0, 0],\n",
       "       [1, 7, 0],\n",
       "       [0, 0, 0],\n",
       "       [0, 0, 0],\n",
       "       [0, 0, 0],\n",
       "       [1, 6, 5],\n",
       "       [1, 0, 0],\n",
       "       [0, 0, 0],\n",
       "       [0, 0, 0],\n",
       "       [0, 0, 0],\n",
       "       [1, 8, 2],\n",
       "       [0, 0, 0],\n",
       "       [1, 7, 2],\n",
       "       [1, 7, 2],\n",
       "       [0, 0, 0],\n",
       "       [0, 0, 0],\n",
       "       [0, 0, 0],\n",
       "       [1, 7, 0],\n",
       "       [0, 0, 0],\n",
       "       [0, 0, 0],\n",
       "       [0, 0, 0],\n",
       "       [1, 7, 6],\n",
       "       [1, 7, 6],\n",
       "       [1, 7, 4],\n",
       "       [0, 0, 0],\n",
       "       [0, 0, 0],\n",
       "       [1, 8, 2],\n",
       "       [1, 7, 4]], dtype=int64)"
      ]
     },
     "execution_count": 26,
     "metadata": {},
     "output_type": "execute_result"
    }
   ],
   "source": [
    "import pandas as pd\n",
    "from sklearn.tree import DecisionTreeClassifier\n",
    "from sklearn.model_selection import train_test_split\n",
    "from sklearn.metrics import accuracy_score\n",
    "\n",
    "dataset = pd.read_csv('trainingDataset.csv')\n",
    "# X = dataset['Time']\n",
    "X = dataset.drop(columns=['On/Off', 'Brightness (x*10)%', 'Color temp (x*1000)Kelvin'])\n",
    "y = dataset.drop(columns=['Time'])\n",
    "X_train, X_test, y_train, y_test = train_test_split(X, y, test_size=0.2)\n",
    "\n",
    "model1 = DecisionTreeClassifier()\n",
    "# model2 = DecisionTreeClassifier()\n",
    "# model3 = DecisionTreeClassifier()\n",
    "model1.fit(X_train, y_train)\n",
    "# model2.fit(X, y)\n",
    "# model3.fit(X, y)\n",
    "\n",
    "prediction1 = model1.predict(X_test)\n",
    "# predictions = model.predict([[1,7,2], [1,5,6]])\n",
    "# predictions1 = model1.predict([[0],[1],[2],[3],[4],[5],[6],[7],[8],[9],[10],[11],[12],[13],[14],[15],[16],[17],[18],[19],[20],[21],[22],[23]])\n",
    "# predictions2 = model2.predict([[0],[1],[2],[3],[4],[5],[6],[7],[8],[9],[10],[11],[12],[13],[14],[15],[16],[17],[18],[19],[20],[21],[22],[23]])\n",
    "# predictions3 = model3.predict([[0],[1],[2],[3],[4],[5],[6],[7],[8],[9],[10],[11],[12],[13],[14],[15],[16],[17],[18],[19],[20],[21],[22],[23]])\n",
    "\n",
    "prediction1\n",
    "# score = accuracy_score(y_test, prediction1)\n",
    "# score"
   ]
  },
  {
   "cell_type": "code",
   "execution_count": null,
   "id": "40447342",
   "metadata": {},
   "outputs": [],
   "source": []
  },
  {
   "cell_type": "code",
   "execution_count": null,
   "id": "47dc5fe3",
   "metadata": {},
   "outputs": [],
   "source": []
  },
  {
   "cell_type": "code",
   "execution_count": null,
   "id": "142fec31",
   "metadata": {},
   "outputs": [],
   "source": []
  }
 ],
 "metadata": {
  "kernelspec": {
   "display_name": "Python 3",
   "language": "python",
   "name": "python3"
  },
  "language_info": {
   "codemirror_mode": {
    "name": "ipython",
    "version": 3
   },
   "file_extension": ".py",
   "mimetype": "text/x-python",
   "name": "python",
   "nbconvert_exporter": "python",
   "pygments_lexer": "ipython3",
   "version": "3.8.8"
  }
 },
 "nbformat": 4,
 "nbformat_minor": 5
}
