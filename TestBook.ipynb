{
 "cells": [
  {
   "cell_type": "code",
   "execution_count": 26,
   "id": "ed19beca",
   "metadata": {
    "scrolled": true
   },
   "outputs": [
    {
     "name": "stdout",
     "output_type": "stream",
     "text": [
      "0:  [1 8 4]\n",
      "1:  [0 8 4]\n",
      "2:  [0 8 4]\n",
      "3:  [0 8 4]\n",
      "4:  [0 8 4]\n",
      "5:  [0 7 7]\n",
      "6:  [0 7 7]\n",
      "7:  [0 6 9]\n",
      "8:  [1 6 9]\n",
      "9:  [1 6 9]\n",
      "10:  [1 5 8]\n",
      "11:  [1 5 8]\n",
      "12:  [1 4 8]\n",
      "13:  [0 4 8]\n",
      "14:  [0 4 7]\n",
      "15:  [0 4 7]\n",
      "16:  [0 3 7]\n",
      "17:  [0 5 7]\n",
      "18:  [1 6 5]\n",
      "19:  [1 7 5]\n",
      "20:  [1 8 5]\n",
      "21:  [1 9 5]\n",
      "22:  [1 9 4]\n",
      "23:  [ 1 10  4]\n"
     ]
    }
   ],
   "source": [
    "import pandas as pd\n",
    "from sklearn.tree import DecisionTreeClassifier\n",
    "from sklearn.model_selection import train_test_split\n",
    "from sklearn.metrics import accuracy_score\n",
    "import joblib\n",
    "from sklearn.metrics import confusion_matrix\n",
    "from skmultilearn.problem_transform import BinaryRelevance\n",
    "\n",
    "dataset = pd.read_csv('trainingDataset1week2.csv')\n",
    "X = dataset.drop(columns=['On/Off', 'Brightness (x*10)%', 'Color temp (x*1000)Kelvin'])\n",
    "y = dataset.drop(columns=['Time'])\n",
    "\n",
    "model2 = DecisionTreeClassifier()\n",
    "model2.fit(X, y)\n",
    "\n",
    "predictions2 = model2.predict([[0],[1],[2],[3],[4],[5],[6],[7],[8],[9],[10],[11],[12],[13],[14],[15],[16],[17],[18],[19],[20],[21],[22],[23]])\n",
    "\n",
    "for i in range(24):\n",
    "    print(f\"{i}:  {predictions2[i]}\")"
   ]
  },
  {
   "cell_type": "code",
   "execution_count": 25,
   "id": "c7b3942e",
   "metadata": {},
   "outputs": [
    {
     "data": {
      "text/plain": [
       "array([[ 1,  8,  4],\n",
       "       [ 0,  8,  4],\n",
       "       [ 0,  8,  4],\n",
       "       [ 0,  8,  4],\n",
       "       [ 0,  8,  4],\n",
       "       [ 0,  7,  7],\n",
       "       [ 0,  7,  7],\n",
       "       [ 0,  6,  9],\n",
       "       [ 1,  6,  9],\n",
       "       [ 1,  6,  9],\n",
       "       [ 1,  5,  8],\n",
       "       [ 1,  5,  8],\n",
       "       [ 1,  4,  8],\n",
       "       [ 0,  4,  8],\n",
       "       [ 0,  4,  7],\n",
       "       [ 0,  4,  7],\n",
       "       [ 0,  3,  7],\n",
       "       [ 0,  5,  7],\n",
       "       [ 1,  6,  5],\n",
       "       [ 1,  7,  5],\n",
       "       [ 1,  8,  5],\n",
       "       [ 1,  9,  5],\n",
       "       [ 1,  9,  4],\n",
       "       [ 1, 10,  4]], dtype=int64)"
      ]
     },
     "execution_count": 25,
     "metadata": {},
     "output_type": "execute_result"
    }
   ],
   "source": [
    "predictions2"
   ]
  },
  {
   "cell_type": "code",
   "execution_count": 24,
   "id": "d8736da0",
   "metadata": {},
   "outputs": [
    {
     "data": {
      "text/html": [
       "<div>\n",
       "<style scoped>\n",
       "    .dataframe tbody tr th:only-of-type {\n",
       "        vertical-align: middle;\n",
       "    }\n",
       "\n",
       "    .dataframe tbody tr th {\n",
       "        vertical-align: top;\n",
       "    }\n",
       "\n",
       "    .dataframe thead th {\n",
       "        text-align: right;\n",
       "    }\n",
       "</style>\n",
       "<table border=\"1\" class=\"dataframe\">\n",
       "  <thead>\n",
       "    <tr style=\"text-align: right;\">\n",
       "      <th></th>\n",
       "      <th>Time</th>\n",
       "      <th>On/Off</th>\n",
       "      <th>Brightness (x*10)%</th>\n",
       "      <th>Color temp (x*1000)Kelvin</th>\n",
       "    </tr>\n",
       "  </thead>\n",
       "  <tbody>\n",
       "    <tr>\n",
       "      <th>count</th>\n",
       "      <td>168.000000</td>\n",
       "      <td>168.000000</td>\n",
       "      <td>168.000000</td>\n",
       "      <td>168.000000</td>\n",
       "    </tr>\n",
       "    <tr>\n",
       "      <th>mean</th>\n",
       "      <td>11.500000</td>\n",
       "      <td>0.511905</td>\n",
       "      <td>6.672619</td>\n",
       "      <td>6.452381</td>\n",
       "    </tr>\n",
       "    <tr>\n",
       "      <th>std</th>\n",
       "      <td>6.942881</td>\n",
       "      <td>0.501353</td>\n",
       "      <td>1.956096</td>\n",
       "      <td>1.926212</td>\n",
       "    </tr>\n",
       "    <tr>\n",
       "      <th>min</th>\n",
       "      <td>0.000000</td>\n",
       "      <td>0.000000</td>\n",
       "      <td>3.000000</td>\n",
       "      <td>4.000000</td>\n",
       "    </tr>\n",
       "    <tr>\n",
       "      <th>25%</th>\n",
       "      <td>5.750000</td>\n",
       "      <td>0.000000</td>\n",
       "      <td>5.000000</td>\n",
       "      <td>4.000000</td>\n",
       "    </tr>\n",
       "    <tr>\n",
       "      <th>50%</th>\n",
       "      <td>11.500000</td>\n",
       "      <td>1.000000</td>\n",
       "      <td>7.000000</td>\n",
       "      <td>7.000000</td>\n",
       "    </tr>\n",
       "    <tr>\n",
       "      <th>75%</th>\n",
       "      <td>17.250000</td>\n",
       "      <td>1.000000</td>\n",
       "      <td>8.000000</td>\n",
       "      <td>8.000000</td>\n",
       "    </tr>\n",
       "    <tr>\n",
       "      <th>max</th>\n",
       "      <td>23.000000</td>\n",
       "      <td>1.000000</td>\n",
       "      <td>10.000000</td>\n",
       "      <td>10.000000</td>\n",
       "    </tr>\n",
       "  </tbody>\n",
       "</table>\n",
       "</div>"
      ],
      "text/plain": [
       "             Time      On/Off  Brightness (x*10)%  Color temp (x*1000)Kelvin\n",
       "count  168.000000  168.000000          168.000000                 168.000000\n",
       "mean    11.500000    0.511905            6.672619                   6.452381\n",
       "std      6.942881    0.501353            1.956096                   1.926212\n",
       "min      0.000000    0.000000            3.000000                   4.000000\n",
       "25%      5.750000    0.000000            5.000000                   4.000000\n",
       "50%     11.500000    1.000000            7.000000                   7.000000\n",
       "75%     17.250000    1.000000            8.000000                   8.000000\n",
       "max     23.000000    1.000000           10.000000                  10.000000"
      ]
     },
     "execution_count": 24,
     "metadata": {},
     "output_type": "execute_result"
    }
   ],
   "source": [
    "dataset.describe()"
   ]
  }
 ],
 "metadata": {
  "kernelspec": {
   "display_name": "Python 3",
   "language": "python",
   "name": "python3"
  },
  "language_info": {
   "codemirror_mode": {
    "name": "ipython",
    "version": 3
   },
   "file_extension": ".py",
   "mimetype": "text/x-python",
   "name": "python",
   "nbconvert_exporter": "python",
   "pygments_lexer": "ipython3",
   "version": "3.8.8"
  }
 },
 "nbformat": 4,
 "nbformat_minor": 5
}
